{
 "cells": [
  {
   "cell_type": "markdown",
   "id": "30577400",
   "metadata": {},
   "source": [
    "# Crear Carpetas\n",
    "Se crearan las carpetas \n",
    "- data\n",
    "- database\n",
    "- reports\n",
    "- ci\n",
    "- git\n",
    "\n",
    "# 1. Librerias Necesarias\n",
    "1. OS\n",
    "2. Pathlib\n",
    "\n",
    "# a. Usando Pathlib"
   ]
  },
  {
   "cell_type": "code",
   "execution_count": 5,
   "id": "14e47490",
   "metadata": {},
   "outputs": [
    {
     "name": "stdout",
     "output_type": "stream",
     "text": [
      "La carpeta 'data' ya existe en: c:\\Users\\andda\\Documents\\SaludDigitalA_E1\\scripts\\..\\data\n",
      "La carpeta 'database' ya existe en: c:\\Users\\andda\\Documents\\SaludDigitalA_E1\\scripts\\..\\database\n",
      "La carpeta 'reports' ya existe en: c:\\Users\\andda\\Documents\\SaludDigitalA_E1\\scripts\\..\\reports\n",
      "La carpeta 'ci' ya existe en: c:\\Users\\andda\\Documents\\SaludDigitalA_E1\\scripts\\..\\ci\n",
      "La carpeta 'git' ya existe en: c:\\Users\\andda\\Documents\\SaludDigitalA_E1\\scripts\\..\\git\n"
     ]
    }
   ],
   "source": [
    "from pathlib import Path\n",
    "\n",
    "carpetas = [\"data\", \"database\", \"reports\", \"ci\", \"git\"]\n",
    "\n",
    "for carpeta in carpetas:\n",
    "    ruta = Path.cwd() / f\"../{carpeta}\"\n",
    "    \n",
    "    if not ruta.exists():\n",
    "        ruta.mkdir(parents=True, exist_ok=True)\n",
    "        print(f\"Carpeta '{carpeta}' creada en: {ruta}\")\n",
    "    else:\n",
    "        print(f\"La carpeta '{carpeta}' ya existe en: {ruta}\")"
   ]
  },
  {
   "cell_type": "markdown",
   "id": "b276095f",
   "metadata": {},
   "source": [
    "# b. Usando OS"
   ]
  },
  {
   "cell_type": "code",
   "execution_count": 6,
   "id": "3a6043f5",
   "metadata": {},
   "outputs": [
    {
     "name": "stdout",
     "output_type": "stream",
     "text": [
      "Carpeta 'data' ya existe en: c:\\Users\\andda\\Documents\\SaludDigitalA_E1\\scripts\\..\\data\n",
      "Carpeta 'database' ya existe en: c:\\Users\\andda\\Documents\\SaludDigitalA_E1\\scripts\\..\\database\n",
      "Carpeta 'reports' ya existe en: c:\\Users\\andda\\Documents\\SaludDigitalA_E1\\scripts\\..\\reports\n",
      "Carpeta 'ci' ya existe en: c:\\Users\\andda\\Documents\\SaludDigitalA_E1\\scripts\\..\\ci\n",
      "Carpeta 'git' ya existe en: c:\\Users\\andda\\Documents\\SaludDigitalA_E1\\scripts\\..\\git\n"
     ]
    }
   ],
   "source": [
    "import os\n",
    "\n",
    "carpetas = [\"data\", \"database\", \"reports\", \"ci\", \"git\"]\n",
    "\n",
    "for carpeta in carpetas:\n",
    "    ruta_carpeta = os.path.join(os.getcwd(), \"..\", carpeta)\n",
    "    \n",
    "    if not os.path.exists(ruta_carpeta):\n",
    "        os.makedirs(ruta_carpeta)\n",
    "        print(f\"Carpeta '{carpeta}' creada en: {ruta_carpeta}\")\n",
    "    else:\n",
    "        print(f\"Carpeta '{carpeta}' ya existe en: {ruta_carpeta}\")"
   ]
  }
 ],
 "metadata": {
  "kernelspec": {
   "display_name": "myenv",
   "language": "python",
   "name": "python3"
  },
  "language_info": {
   "codemirror_mode": {
    "name": "ipython",
    "version": 3
   },
   "file_extension": ".py",
   "mimetype": "text/x-python",
   "name": "python",
   "nbconvert_exporter": "python",
   "pygments_lexer": "ipython3",
   "version": "3.13.8"
  }
 },
 "nbformat": 4,
 "nbformat_minor": 5
}
